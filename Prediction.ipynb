{
 "cells": [
  {
   "cell_type": "code",
   "execution_count": 2,
   "metadata": {},
   "outputs": [],
   "source": [
    "import re\n",
    "import nltk\n",
    "from nltk.corpus import stopwords\n",
    "from nltk.stem.snowball import SnowballStemmer\n",
    "from nltk.tokenize import word_tokenize\n",
    "from sklearn.linear_model import SGDClassifier\n",
    "from datetime import datetime\n",
    "import joblib\n",
    "import dill\n",
    "import pandas as pd"
   ]
  },
  {
   "cell_type": "code",
   "execution_count": 3,
   "metadata": {},
   "outputs": [],
   "source": [
    "def striphtml(data):\n",
    "    cleanr = re.compile('<.*?>')\n",
    "    cleantext = re.sub(cleanr, ' ', str(data))\n",
    "    return cleantext\n",
    "stop_words = set(stopwords.words('english'))\n",
    "stemmer = SnowballStemmer(\"english\")"
   ]
  },
  {
   "cell_type": "code",
   "execution_count": 9,
   "metadata": {},
   "outputs": [],
   "source": [
    "def preprocessText(title,description): \n",
    "    code = str(re.findall(r'<code>(.*?)</code>', description, flags=re.DOTALL))\n",
    "    description=re.sub('<code>(.*?)</code>', '', description, flags=re.MULTILINE|re.DOTALL)\n",
    "    description=striphtml(description.encode('utf-8'))\n",
    "    title=title.encode('utf-8')\n",
    " \n",
    "    #Adding title three time to the data to increase its weight\n",
    "    question=str(title)+\" \"+str(title)+\" \"+str(title)+\" \"+description\n",
    "    question=re.sub(r'[^A-Za-z0-9#+.\\-]+',' ',question)\n",
    "    words=word_tokenize(str(question.lower()))\n",
    "    \n",
    "    #Removing all single letter and stopwords from question except for the letter 'c'\n",
    "    question=' '.join(str(stemmer.stem(j)) for j in words if j not in stop_words and (len(j)!=1 or j=='c'))\n",
    "    return tuple([question])\n",
    "    "
   ]
  },
  {
   "cell_type": "code",
   "execution_count": 10,
   "metadata": {},
   "outputs": [
    {
     "name": "stdout",
     "output_type": "stream",
     "text": [
      "('implement boundari valu analysi softwar test c++ program implement boundari valu analysi softwar test c++ program implement boundari valu analysi softwar test c++ program includ includ use namespac std int main int c cout cout cin answer come form tabl like input rang 100 100 100 could vari output come anyon correct code tell wrong',)\n"
     ]
    }
   ],
   "source": [
    "title=\"Implementing Boundary Value Analysis of Software Testing in a C++ program?\"\n",
    "description=\"\"\" #include<\n",
    "        iostream>\\n\n",
    "        #include<\n",
    "        stdlib.h>\\n\\n\n",
    "        using namespace std;\\n\\n\n",
    "        int main()\\n\n",
    "        {\\n\n",
    "                 int n,a[n],x,c,u[n],m[n],e[n][4];\\n         \n",
    "                 cout<<\"Enter the number of variables\";\\n         cin>>n;\\n\\n         \n",
    "                 cout<<\"Enter the Lower, and Upper Limits of the variables\";\\n         \n",
    "                 for(int y=1; y<n+1; y++)\\n         \n",
    "                 {\\n                 \n",
    "                    cin>>m[y];\\n                 \n",
    "                    cin>>u[y];\\n         \n",
    "                 }\\n         \n",
    "                 for(x=1; x<n+1; x++)\\n         \n",
    "                 {\\n                 \n",
    "                    a[x] = (m[x] + u[x])/2;\\n         \n",
    "                 }\\n         \n",
    "                 c=(n*4)-4;\\n         \n",
    "                 for(int a1=1; a1<n+1; a1++)\\n         \n",
    "                 {\\n\\n             \n",
    "                    e[a1][0] = m[a1];\\n             \n",
    "                    e[a1][1] = m[a1]+1;\\n             \n",
    "                    e[a1][2] = u[a1]-1;\\n             \n",
    "                    e[a1][3] = u[a1];\\n         \n",
    "                 }\\n         \n",
    "                 for(int i=1; i<n+1; i++)\\n         \n",
    "                 {\\n            \n",
    "                    for(int l=1; l<=i; l++)\\n            \n",
    "                    {\\n                 \n",
    "                        if(l!=1)\\n                 \n",
    "                        {\\n                    \n",
    "                            cout<<a[l]<<\"\\\\t\";\\n                 \n",
    "                        }\\n            \n",
    "                    }\\n            \n",
    "                    for(int j=0; j<4; j++)\\n            \n",
    "                    {\\n                \n",
    "                        cout<<e[i][j];\\n                \n",
    "                        for(int k=0; k<n-(i+1); k++)\\n                \n",
    "                        {\\n                    \n",
    "                            cout<<a[k]<<\"\\\\t\";\\n               \n",
    "                        }\\n                \n",
    "                        cout<<\"\\\\n\";\\n            \n",
    "                    }\\n        \n",
    "                 }    \\n\\n        \n",
    "                 system(\"PAUSE\");\\n        \n",
    "                 return 0;    \\n\n",
    "        }\\n\n",
    "        \n",
    "\\n\\n\n",
    "    <p>The answer should come in the form of a table like</p>\\n\\n\n",
    "    <pre><code>       \n",
    "    1            50              50\\n       \n",
    "    2            50              50\\n       \n",
    "    99           50              50\\n       \n",
    "    100          50              50\\n       \n",
    "    50           1               50\\n       \n",
    "    50           2               50\\n       \n",
    "    50           99              50\\n       \n",
    "    50           100             50\\n       \n",
    "    50           50              1\\n       \n",
    "    50           50              2\\n       \n",
    "    50           50              99\\n       \n",
    "    50           50              100\\n\n",
    "    </code></pre>\\n\\n\n",
    "    <p>if the no of inputs is 3 and their ranges are\\n\n",
    "    1,100\\n\n",
    "    1,100\\n\n",
    "    1,100\\n\n",
    "    (could be varied too)</p>\\n\\n\n",
    "    <p>The output is not coming,can anyone correct the code or tell me what\\'s wrong?</p>\\n'\"\"\"\n",
    "print(preprocessText(title,description))"
   ]
  },
  {
   "cell_type": "code",
   "execution_count": 16,
   "metadata": {},
   "outputs": [],
   "source": [
    "ques_vectorizer = dill.load(open(\"ques_vectorizer.pkl\", \"rb\"))\n",
    "classifier = joblib.load(\"SVM_model.pkl\")\n",
    "processed = preprocessText(title,description)\n",
    "tfidf_ques = ques_vectorizer.transform(processed)\n",
    "prediction = classifier.predict(tfidf_ques)\n"
   ]
  },
  {
   "cell_type": "code",
   "execution_count": 19,
   "metadata": {},
   "outputs": [
    {
     "name": "stdout",
     "output_type": "stream",
     "text": [
      "(1, 87594)\n"
     ]
    }
   ],
   "source": [
    "print(tfidf_ques.shape)"
   ]
  },
  {
   "cell_type": "code",
   "execution_count": 26,
   "metadata": {},
   "outputs": [
    {
     "name": "stdout",
     "output_type": "stream",
     "text": [
      "c++ \n"
     ]
    }
   ],
   "source": [
    "vect = dill.load(open(\"label_vectorizer.pkl\", \"rb\"))\n",
    "tag = vect.inverse_transform(prediction)\n",
    "predicted_tag=\"\"\n",
    "for t in tag[0]:\n",
    "    predicted_tag +=t+\" \"\n",
    "print(predicted_tag)"
   ]
  }
 ],
 "metadata": {
  "kernelspec": {
   "display_name": "Python 3",
   "language": "python",
   "name": "python3"
  },
  "language_info": {
   "codemirror_mode": {
    "name": "ipython",
    "version": 3
   },
   "file_extension": ".py",
   "mimetype": "text/x-python",
   "name": "python",
   "nbconvert_exporter": "python",
   "pygments_lexer": "ipython3",
   "version": "3.7.4"
  }
 },
 "nbformat": 4,
 "nbformat_minor": 2
}
